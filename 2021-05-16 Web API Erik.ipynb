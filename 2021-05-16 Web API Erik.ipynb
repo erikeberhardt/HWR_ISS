{
 "cells": [
  {
   "cell_type": "code",
   "execution_count": 9,
   "id": "regulation-ministry",
   "metadata": {},
   "outputs": [],
   "source": [
    "import requests\n",
    "import join\n",
    "import json"
   ]
  },
  {
   "cell_type": "code",
   "execution_count": 2,
   "id": "settled-output",
   "metadata": {},
   "outputs": [
    {
     "name": "stdout",
     "output_type": "stream",
     "text": [
      "Collecting join\n",
      "  Downloading join-0.1.1.tar.gz (5.4 kB)\n",
      "Building wheels for collected packages: join\n",
      "  Building wheel for join (setup.py): started\n",
      "  Building wheel for join (setup.py): finished with status 'done'\n",
      "  Created wheel for join: filename=join-0.1.1-py3-none-any.whl size=5961 sha256=f667af58b8d6fa752ac92ebe6cffa8bdbe88f69ec73f212b4f792664a7654401\n",
      "  Stored in directory: c:\\users\\erik\\appdata\\local\\pip\\cache\\wheels\\c9\\7a\\35\\189e47aeb4396ee02dd2c13198ec13d805e3ff988e9731befc\n",
      "Successfully built join\n",
      "Installing collected packages: join\n",
      "Successfully installed join-0.1.1\n"
     ]
    }
   ],
   "source": [
    "!pip install join"
   ]
  },
  {
   "cell_type": "code",
   "execution_count": 4,
   "id": "balanced-recipient",
   "metadata": {},
   "outputs": [],
   "source": [
    "response = requests.get(\"https://api.randomuser.me/?nat=US&results=5&gender=male\")"
   ]
  },
  {
   "cell_type": "code",
   "execution_count": 5,
   "id": "premium-threat",
   "metadata": {},
   "outputs": [
    {
     "name": "stdout",
     "output_type": "stream",
     "text": [
      "200\n"
     ]
    }
   ],
   "source": [
    "print(response.status_code)"
   ]
  },
  {
   "cell_type": "code",
   "execution_count": 6,
   "id": "finnish-consultation",
   "metadata": {},
   "outputs": [],
   "source": [
    "parameters = {\"results\":10, \"gender\": \"male\", \"nat\":\"US\"}"
   ]
  },
  {
   "cell_type": "code",
   "execution_count": 7,
   "id": "military-professional",
   "metadata": {},
   "outputs": [],
   "source": [
    "response = requests.get(\"https://api.randomuser.me/\",\n",
    "params=parameters)"
   ]
  },
  {
   "cell_type": "code",
   "execution_count": 8,
   "id": "governing-slave",
   "metadata": {},
   "outputs": [
    {
     "data": {
      "text/plain": [
       "'{\"results\":[{\"gender\":\"male\",\"name\":{\"title\":\"Mr\",\"first\":\"Bruce\",\"last\":\"Gordon\"},\"location\":{\"street\":{\"number\":8787,\"name\":\"Mcclellan Rd\"},\"city\":\"Buffalo\",\"state\":\"Nebraska\",\"country\":\"United States\",\"postcode\":15870,\"coordinates\":{\"latitude\":\"0.5298\",\"longitude\":\"-135.7452\"},\"timezone\":{\"offset\":\"+8:00\",\"description\":\"Beijing, Perth, Singapore, Hong Kong\"}},\"email\":\"bruce.gordon@example.com\",\"login\":{\"uuid\":\"5de71813-12a3-40af-b1a2-6876c60ed4e9\",\"username\":\"bigostrich237\",\"password\":\"chainsaw\",\"salt\":\"lfiPmbO8\",\"md5\":\"4505b4b92fb84a41be6fd4f81c5c986b\",\"sha1\":\"5ec5d6728ea4576d796a7d2b95d792067c68e9cb\",\"sha256\":\"2dd5e9d07efc6bc03564622cb9584cea326e0549bb029418ed5787501527c616\"},\"dob\":{\"date\":\"1966-03-19T22:43:07.584Z\",\"age\":55},\"registered\":{\"date\":\"2011-12-09T18:33:03.398Z\",\"age\":10},\"phone\":\"(374)-088-2954\",\"cell\":\"(049)-030-8500\",\"id\":{\"name\":\"SSN\",\"value\":\"721-85-3350\"},\"picture\":{\"large\":\"https://randomuser.me/api/portraits/men/45.jpg\",\"medium\":\"https://randomuser.me/api/portraits/med/men/45.jpg\",\"thumbnail\":\"https://randomuser.me/api/portraits/thumb/men/45.jpg\"},\"nat\":\"US\"},{\"gender\":\"male\",\"name\":{\"title\":\"Mr\",\"first\":\"Raul\",\"last\":\"Bailey\"},\"location\":{\"street\":{\"number\":9256,\"name\":\"Timber Wolf Trail\"},\"city\":\"Durham\",\"state\":\"Utah\",\"country\":\"United States\",\"postcode\":93674,\"coordinates\":{\"latitude\":\"-2.0995\",\"longitude\":\"-152.5947\"},\"timezone\":{\"offset\":\"-3:30\",\"description\":\"Newfoundland\"}},\"email\":\"raul.bailey@example.com\",\"login\":{\"uuid\":\"7e060d81-0c31-4d86-9811-c04ed4de9adf\",\"username\":\"happypeacock690\",\"password\":\"lifetime\",\"salt\":\"JP17FNzg\",\"md5\":\"3bf3d0914c35e1594dd9a77e18495ef4\",\"sha1\":\"fde879c41fe6d0e4dd1445c38b8e05c5e79688df\",\"sha256\":\"47ad0680f146181f7ba1f91390c26c37d9164093164a60b479b3cd1cf7c43977\"},\"dob\":{\"date\":\"1987-06-08T06:44:07.956Z\",\"age\":34},\"registered\":{\"date\":\"2004-10-11T04:22:33.267Z\",\"age\":17},\"phone\":\"(220)-332-0172\",\"cell\":\"(610)-780-6263\",\"id\":{\"name\":\"SSN\",\"value\":\"095-71-1153\"},\"picture\":{\"large\":\"https://randomuser.me/api/portraits/men/4.jpg\",\"medium\":\"https://randomuser.me/api/portraits/med/men/4.jpg\",\"thumbnail\":\"https://randomuser.me/api/portraits/thumb/men/4.jpg\"},\"nat\":\"US\"},{\"gender\":\"male\",\"name\":{\"title\":\"Mr\",\"first\":\"Philip\",\"last\":\"Graham\"},\"location\":{\"street\":{\"number\":8883,\"name\":\"Brown Terrace\"},\"city\":\"South Valley\",\"state\":\"Wisconsin\",\"country\":\"United States\",\"postcode\":85603,\"coordinates\":{\"latitude\":\"2.2859\",\"longitude\":\"49.4023\"},\"timezone\":{\"offset\":\"+1:00\",\"description\":\"Brussels, Copenhagen, Madrid, Paris\"}},\"email\":\"philip.graham@example.com\",\"login\":{\"uuid\":\"6186cac2-0330-4653-92b4-a21cd093a60f\",\"username\":\"ticklishladybug385\",\"password\":\"coltrane\",\"salt\":\"bnZuCETS\",\"md5\":\"60ad3c306b66d9f1906133fb5122c2ca\",\"sha1\":\"22d9bf2213a56f753a1d50892785ac46d6ee419d\",\"sha256\":\"dbc19a2a5091f5e9d95c59893d42d8c3c44bc40daa3afe6943c7efb4eafdd939\"},\"dob\":{\"date\":\"1962-02-21T08:34:40.275Z\",\"age\":59},\"registered\":{\"date\":\"2019-01-11T16:48:15.486Z\",\"age\":2},\"phone\":\"(817)-293-8800\",\"cell\":\"(770)-661-6476\",\"id\":{\"name\":\"SSN\",\"value\":\"433-56-7288\"},\"picture\":{\"large\":\"https://randomuser.me/api/portraits/men/66.jpg\",\"medium\":\"https://randomuser.me/api/portraits/med/men/66.jpg\",\"thumbnail\":\"https://randomuser.me/api/portraits/thumb/men/66.jpg\"},\"nat\":\"US\"},{\"gender\":\"male\",\"name\":{\"title\":\"Mr\",\"first\":\"Sergio\",\"last\":\"Allen\"},\"location\":{\"street\":{\"number\":3277,\"name\":\"Green Rd\"},\"city\":\"Hamsburg\",\"state\":\"Arizona\",\"country\":\"United States\",\"postcode\":13163,\"coordinates\":{\"latitude\":\"10.5176\",\"longitude\":\"88.4016\"},\"timezone\":{\"offset\":\"-10:00\",\"description\":\"Hawaii\"}},\"email\":\"sergio.allen@example.com\",\"login\":{\"uuid\":\"31385cc5-7e0d-4fd0-bd57-7bb3d755fac2\",\"username\":\"redgoose386\",\"password\":\"striker\",\"salt\":\"ZWIrLzjH\",\"md5\":\"e0015dc492e47a76062db4fb3ed19b75\",\"sha1\":\"dc85132a94787f42a94260a36b785b316312f84e\",\"sha256\":\"d8e7546c18738172dd157e574a3a7fedcaa1f5edf50d8bb981872847548ebf55\"},\"dob\":{\"date\":\"1993-04-28T20:14:00.216Z\",\"age\":28},\"registered\":{\"date\":\"2002-10-25T06:10:38.846Z\",\"age\":19},\"phone\":\"(564)-488-4911\",\"cell\":\"(602)-153-1577\",\"id\":{\"name\":\"SSN\",\"value\":\"896-95-3990\"},\"picture\":{\"large\":\"https://randomuser.me/api/portraits/men/25.jpg\",\"medium\":\"https://randomuser.me/api/portraits/med/men/25.jpg\",\"thumbnail\":\"https://randomuser.me/api/portraits/thumb/men/25.jpg\"},\"nat\":\"US\"},{\"gender\":\"male\",\"name\":{\"title\":\"Mr\",\"first\":\"Kirk\",\"last\":\"Rose\"},\"location\":{\"street\":{\"number\":4984,\"name\":\"Marsh Ln\"},\"city\":\"Fontana\",\"state\":\"Wisconsin\",\"country\":\"United States\",\"postcode\":95197,\"coordinates\":{\"latitude\":\"36.2152\",\"longitude\":\"-94.5499\"},\"timezone\":{\"offset\":\"-7:00\",\"description\":\"Mountain Time (US & Canada)\"}},\"email\":\"kirk.rose@example.com\",\"login\":{\"uuid\":\"f4dd01bb-0a92-497c-9745-99b3de2d0155\",\"username\":\"angryrabbit946\",\"password\":\"tatiana\",\"salt\":\"0rkSqnU3\",\"md5\":\"2defacbf801d7d34ad86f5d701155b9f\",\"sha1\":\"cb3e0c7377f75e3a710e07c47bab5f8b0a45faef\",\"sha256\":\"c5db663cd2abb2fbf637971182d4e46e1d4ee5f985e8a4dea446b6613668bdfe\"},\"dob\":{\"date\":\"1952-05-14T23:48:33.112Z\",\"age\":69},\"registered\":{\"date\":\"2006-07-15T23:49:51.492Z\",\"age\":15},\"phone\":\"(110)-183-5755\",\"cell\":\"(755)-480-2676\",\"id\":{\"name\":\"SSN\",\"value\":\"689-51-4557\"},\"picture\":{\"large\":\"https://randomuser.me/api/portraits/men/16.jpg\",\"medium\":\"https://randomuser.me/api/portraits/med/men/16.jpg\",\"thumbnail\":\"https://randomuser.me/api/portraits/thumb/men/16.jpg\"},\"nat\":\"US\"},{\"gender\":\"male\",\"name\":{\"title\":\"Mr\",\"first\":\"Eddie\",\"last\":\"Hansen\"},\"location\":{\"street\":{\"number\":8802,\"name\":\"Northaven Rd\"},\"city\":\"Eugene\",\"state\":\"New Jersey\",\"country\":\"United States\",\"postcode\":93613,\"coordinates\":{\"latitude\":\"-19.2062\",\"longitude\":\"-162.8773\"},\"timezone\":{\"offset\":\"-5:00\",\"description\":\"Eastern Time (US & Canada), Bogota, Lima\"}},\"email\":\"eddie.hansen@example.com\",\"login\":{\"uuid\":\"0dc84962-8da6-45e0-88a6-6dc6f1191329\",\"username\":\"goldenfish748\",\"password\":\"infantry\",\"salt\":\"H4BdzcrH\",\"md5\":\"b94b8575d3edc99595acb891b6f19680\",\"sha1\":\"0aed08ce7aa41d9f3b1058d6d837c3eea65c4453\",\"sha256\":\"089bd054760b57e9333b12d29853a14117b8d02ba4ffa76d37a70ab358b848e6\"},\"dob\":{\"date\":\"1956-10-16T23:46:31.102Z\",\"age\":65},\"registered\":{\"date\":\"2003-02-15T06:59:32.099Z\",\"age\":18},\"phone\":\"(854)-911-3943\",\"cell\":\"(270)-025-9649\",\"id\":{\"name\":\"SSN\",\"value\":\"951-04-1311\"},\"picture\":{\"large\":\"https://randomuser.me/api/portraits/men/25.jpg\",\"medium\":\"https://randomuser.me/api/portraits/med/men/25.jpg\",\"thumbnail\":\"https://randomuser.me/api/portraits/thumb/men/25.jpg\"},\"nat\":\"US\"},{\"gender\":\"male\",\"name\":{\"title\":\"Mr\",\"first\":\"Hector\",\"last\":\"Gilbert\"},\"location\":{\"street\":{\"number\":8435,\"name\":\"White Oak Dr\"},\"city\":\"Green Bay\",\"state\":\"Massachusetts\",\"country\":\"United States\",\"postcode\":31127,\"coordinates\":{\"latitude\":\"-18.5116\",\"longitude\":\"-135.4316\"},\"timezone\":{\"offset\":\"+9:30\",\"description\":\"Adelaide, Darwin\"}},\"email\":\"hector.gilbert@example.com\",\"login\":{\"uuid\":\"8cbdfaf8-6fe1-4b9c-a775-fff42b43bde0\",\"username\":\"ticklishladybug632\",\"password\":\"loving\",\"salt\":\"jAacDSuv\",\"md5\":\"9882947fb7876a3d3517c14700c06fee\",\"sha1\":\"f8e9742402ca1b8e07ff1716d5e40832cdb23abe\",\"sha256\":\"6ae5d55c8536a243d7e0848669445bd95b3ebd4c753ff80c9c9aafceb39137f6\"},\"dob\":{\"date\":\"1979-06-13T17:56:37.036Z\",\"age\":42},\"registered\":{\"date\":\"2019-03-26T07:00:37.085Z\",\"age\":2},\"phone\":\"(728)-498-6383\",\"cell\":\"(698)-753-7890\",\"id\":{\"name\":\"SSN\",\"value\":\"097-21-4567\"},\"picture\":{\"large\":\"https://randomuser.me/api/portraits/men/43.jpg\",\"medium\":\"https://randomuser.me/api/portraits/med/men/43.jpg\",\"thumbnail\":\"https://randomuser.me/api/portraits/thumb/men/43.jpg\"},\"nat\":\"US\"},{\"gender\":\"male\",\"name\":{\"title\":\"Mr\",\"first\":\"Jessie\",\"last\":\"Lambert\"},\"location\":{\"street\":{\"number\":8263,\"name\":\"Washington Ave\"},\"city\":\"Philadelphia\",\"state\":\"Ohio\",\"country\":\"United States\",\"postcode\":54810,\"coordinates\":{\"latitude\":\"52.2605\",\"longitude\":\"158.5069\"},\"timezone\":{\"offset\":\"-2:00\",\"description\":\"Mid-Atlantic\"}},\"email\":\"jessie.lambert@example.com\",\"login\":{\"uuid\":\"2322111d-59c8-48b8-86c1-39bbade92688\",\"username\":\"smallswan515\",\"password\":\"kelly1\",\"salt\":\"d9VY3zGn\",\"md5\":\"5431d2f141c5da0214b169416f17ddc3\",\"sha1\":\"770f91d9c22631d3ec45f6dc4cc761d174285146\",\"sha256\":\"1816393e7432c4e575f04f0a987301a946de40d6352be6fccbd0f6ea5113fbb0\"},\"dob\":{\"date\":\"1946-03-22T19:20:33.662Z\",\"age\":75},\"registered\":{\"date\":\"2005-03-19T20:34:20.901Z\",\"age\":16},\"phone\":\"(920)-719-5921\",\"cell\":\"(179)-597-4723\",\"id\":{\"name\":\"SSN\",\"value\":\"919-02-2665\"},\"picture\":{\"large\":\"https://randomuser.me/api/portraits/men/53.jpg\",\"medium\":\"https://randomuser.me/api/portraits/med/men/53.jpg\",\"thumbnail\":\"https://randomuser.me/api/portraits/thumb/men/53.jpg\"},\"nat\":\"US\"},{\"gender\":\"male\",\"name\":{\"title\":\"Mr\",\"first\":\"Edwin\",\"last\":\"Gilbert\"},\"location\":{\"street\":{\"number\":4073,\"name\":\"Robinson Rd\"},\"city\":\"Albany\",\"state\":\"Massachusetts\",\"country\":\"United States\",\"postcode\":16669,\"coordinates\":{\"latitude\":\"36.4409\",\"longitude\":\"34.0674\"},\"timezone\":{\"offset\":\"+2:00\",\"description\":\"Kaliningrad, South Africa\"}},\"email\":\"edwin.gilbert@example.com\",\"login\":{\"uuid\":\"454e849e-8e60-4604-8754-b304d87f215f\",\"username\":\"angrypeacock454\",\"password\":\"bizkit\",\"salt\":\"4zEOf8pq\",\"md5\":\"05406cf332ce772fc24803a3cc5e07ad\",\"sha1\":\"854a1b4fa572a41da7ae13a4971036674174292f\",\"sha256\":\"e27a1276a2b06dcecb03a8e706aec0ef3d0f8935ab42c97280ec1d51351fb3bf\"},\"dob\":{\"date\":\"1983-03-24T05:52:58.733Z\",\"age\":38},\"registered\":{\"date\":\"2007-04-30T10:34:27.198Z\",\"age\":14},\"phone\":\"(351)-109-3894\",\"cell\":\"(144)-302-8636\",\"id\":{\"name\":\"SSN\",\"value\":\"705-09-4456\"},\"picture\":{\"large\":\"https://randomuser.me/api/portraits/men/81.jpg\",\"medium\":\"https://randomuser.me/api/portraits/med/men/81.jpg\",\"thumbnail\":\"https://randomuser.me/api/portraits/thumb/men/81.jpg\"},\"nat\":\"US\"},{\"gender\":\"male\",\"name\":{\"title\":\"Mr\",\"first\":\"Brayden\",\"last\":\"Howell\"},\"location\":{\"street\":{\"number\":5185,\"name\":\"Edwards Rd\"},\"city\":\"Santa Ana\",\"state\":\"Minnesota\",\"country\":\"United States\",\"postcode\":84720,\"coordinates\":{\"latitude\":\"-6.5297\",\"longitude\":\"-37.5093\"},\"timezone\":{\"offset\":\"0:00\",\"description\":\"Western Europe Time, London, Lisbon, Casablanca\"}},\"email\":\"brayden.howell@example.com\",\"login\":{\"uuid\":\"3c0149f9-6ee8-4316-9512-964edf663260\",\"username\":\"heavypeacock143\",\"password\":\"circle\",\"salt\":\"1W857dDm\",\"md5\":\"bbb34435710a8503bd2318b44e8a071d\",\"sha1\":\"51722be6c7cbd1df16af162194a44e833f0868bb\",\"sha256\":\"5c805ba22b560a23de448040017c083a1a337c83ebfec8f5cb78c8ca6c3ff82e\"},\"dob\":{\"date\":\"1954-06-27T02:32:41.830Z\",\"age\":67},\"registered\":{\"date\":\"2017-10-01T20:22:01.951Z\",\"age\":4},\"phone\":\"(147)-801-3730\",\"cell\":\"(018)-671-1234\",\"id\":{\"name\":\"SSN\",\"value\":\"090-26-0687\"},\"picture\":{\"large\":\"https://randomuser.me/api/portraits/men/50.jpg\",\"medium\":\"https://randomuser.me/api/portraits/med/men/50.jpg\",\"thumbnail\":\"https://randomuser.me/api/portraits/thumb/men/50.jpg\"},\"nat\":\"US\"}],\"info\":{\"seed\":\"21f00981f1b5c8e7\",\"results\":10,\"page\":1,\"version\":\"1.3\"}}'"
      ]
     },
     "execution_count": 8,
     "metadata": {},
     "output_type": "execute_result"
    }
   ],
   "source": [
    "response.text"
   ]
  },
  {
   "cell_type": "code",
   "execution_count": 10,
   "id": "golden-strategy",
   "metadata": {},
   "outputs": [],
   "source": [
    "data = json.loads(response.text)"
   ]
  },
  {
   "cell_type": "code",
   "execution_count": 11,
   "id": "advance-guarantee",
   "metadata": {},
   "outputs": [
    {
     "data": {
      "text/plain": [
       "dict"
      ]
     },
     "execution_count": 11,
     "metadata": {},
     "output_type": "execute_result"
    }
   ],
   "source": [
    "type(data)"
   ]
  },
  {
   "cell_type": "code",
   "execution_count": 32,
   "id": "infinite-clerk",
   "metadata": {},
   "outputs": [
    {
     "name": "stdout",
     "output_type": "stream",
     "text": [
      "Bruce\n",
      "Raul\n",
      "Philip\n",
      "Sergio\n",
      "Kirk\n",
      "Eddie\n",
      "Hector\n",
      "Jessie\n",
      "Edwin\n",
      "Brayden\n"
     ]
    }
   ],
   "source": [
    "for i in range(10):\n",
    "    print(data[\"results\"][i][\"name\"][\"first\"])"
   ]
  },
  {
   "cell_type": "code",
   "execution_count": 35,
   "id": "listed-metabolism",
   "metadata": {},
   "outputs": [],
   "source": [
    "astronauts = requests.get(\"http://api.open-notify.org/astros.json\")"
   ]
  },
  {
   "cell_type": "code",
   "execution_count": 39,
   "id": "synthetic-death",
   "metadata": {},
   "outputs": [],
   "source": [
    "astro = json.loads(astronauts.text)"
   ]
  },
  {
   "cell_type": "code",
   "execution_count": 50,
   "id": "composite-vault",
   "metadata": {},
   "outputs": [
    {
     "name": "stdout",
     "output_type": "stream",
     "text": [
      "Mark Vande Hei\n",
      "Oleg Novitskiy\n",
      "Pyotr Dubrov\n",
      "Thomas Pesquet\n",
      "Megan McArthur\n",
      "Shane Kimbrough\n",
      "Akihiko Hoshide\n"
     ]
    }
   ],
   "source": [
    "for i in range(len(astro[\"people\"])):\n",
    "    print(astro[\"people\"][i][\"name\"])"
   ]
  },
  {
   "cell_type": "code",
   "execution_count": 51,
   "id": "intense-carol",
   "metadata": {},
   "outputs": [
    {
     "name": "stdout",
     "output_type": "stream",
     "text": [
      "7\n"
     ]
    }
   ],
   "source": [
    "print(astro[\"number\"])"
   ]
  },
  {
   "cell_type": "code",
   "execution_count": 52,
   "id": "collectible-trace",
   "metadata": {},
   "outputs": [],
   "source": [
    "iss = requests.get(\"http://api.open-notify.org/iss-now.json\")\n",
    "issloc = json.loads(iss.text)"
   ]
  },
  {
   "cell_type": "code",
   "execution_count": 54,
   "id": "instrumental-works",
   "metadata": {},
   "outputs": [
    {
     "data": {
      "text/plain": [
       "'-77.1782'"
      ]
     },
     "execution_count": 54,
     "metadata": {},
     "output_type": "execute_result"
    }
   ],
   "source": [
    "issloc[\"iss_position\"][\"longitude\"]"
   ]
  }
 ],
 "metadata": {
  "kernelspec": {
   "display_name": "Python 3",
   "language": "python",
   "name": "python3"
  },
  "language_info": {
   "codemirror_mode": {
    "name": "ipython",
    "version": 3
   },
   "file_extension": ".py",
   "mimetype": "text/x-python",
   "name": "python",
   "nbconvert_exporter": "python",
   "pygments_lexer": "ipython3",
   "version": "3.8.3"
  }
 },
 "nbformat": 4,
 "nbformat_minor": 5
}
